{
 "cells": [
  {
   "cell_type": "markdown",
   "metadata": {},
   "source": [
    "## Federated XGBoost Tutorial"
   ]
  },
  {
   "cell_type": "markdown",
   "metadata": {},
   "source": [
    "### Edit hosts.config \n",
    "The `hosts.config` file should contain the IPs and ports of all workers in the federation. After loading in the `hosts.config` file, modify it to contain the IPs of your new friends! Then write the new addresses back to the file by adding a magic to the top of the cell:\n",
    "\n",
    "`%%writefile hosts.config`\n",
    "\n",
    "Make sure to delete the `# %load hosts.config` line from the cell before saving it. We'll be continually using the `%load` and `%%writefile` magics in this tutorial to edit files."
   ]
  },
  {
   "cell_type": "code",
   "execution_count": null,
   "metadata": {},
   "outputs": [],
   "source": [
    "# %load hosts.config\n",
    "35.167.132.178:22\n",
    "34.222.205.126:22\n",
    "34.222.177.218:22\n"
   ]
  },
  {
   "cell_type": "markdown",
   "metadata": {},
   "source": [
    "### Modifying the Training/Eval Script\n",
    "We will now modify the script that will be run for training and evaluation. Load it in by running the following cell. The contents of the script should appear in the cell."
   ]
  },
  {
   "cell_type": "code",
   "execution_count": 2,
   "metadata": {},
   "outputs": [
    {
     "name": "stdout",
     "output_type": "stream",
     "text": [
      "Overwriting tutorial.py\n"
     ]
    }
   ],
   "source": [
    "%%writefile tutorial.py\n",
    "from FederatedXGBoost import FederatedXGBoost\n",
    "\n",
    "# Instantiate a FederatedXGBoost instance\n",
    "fxgb = FederatedXGBoost()\n",
    "\n",
    "# Get number of federating parties\n",
    "print(fxgb.get_num_parties())\n",
    "\n",
    "# Load training data\n",
    "fxgb.load_training_data('/home/ubuntu/data/msd_training_data_split.csv')\n",
    "\n",
    "# Train a model\n",
    "params = {'max_depth': 3, 'min_child_weight': 1.0, 'lambda': 1.0}\n",
    "num_rounds = 100\n",
    "fxgb.train(params, num_rounds)\n",
    "\n",
    "# Save the model\n",
    "fxgb.save_model(\"tutorial_model.model\")\n",
    "\n",
    "# Load the test data\n",
    "fxgb.load_test_data('/home/ubuntu/data/msd_test_data_split.csv')\n",
    "\n",
    "# Evaluate the model\n",
    "print(fxgb.eval())\n",
    "\n",
    "# Get predictions\n",
    "ypred = fxgb.predict()\n",
    "\n",
    "# Shutdown\n",
    "fxgb.shutdown()\n"
   ]
  },
  {
   "cell_type": "markdown",
   "metadata": {},
   "source": [
    "### Start Job\n",
    "After modifying the script, we can start our job! We use the `start_job.sh` script with the given options to do so.\n",
    "\n",
    "The following flags must be specified when running the script.\n",
    "\n",
    "`./start_job.sh`\n",
    "\n",
    "* `-m | --worker-memory` string, specified as \"<memory>g\", e.g. 3g\n",
    "    * Amount of memory on workers allocated to job\n",
    "* `-p | --num-parties` integer\n",
    "    * Number of parties in the federation\n",
    "* `-d | --dir` string\n",
    "    * Path to created subdirectory containing job script, e.g. `/home/ubuntu/mc2/federated-xgboost/risecamp`\n",
    "* `-j | --job` string\n",
    "    * Path to job script. This should be the parameter passed into the `--dir` option concatenated with the job script file name, e.g. `/home/ubuntu/mc2/federated-xgboost/risecamp/tutorial.py`"
   ]
  },
  {
   "cell_type": "code",
   "execution_count": 3,
   "metadata": {},
   "outputs": [
    {
     "name": "stdout",
     "output_type": "stream",
     "text": [
      "2019-09-18 08:26:24,877 INFO start listen on 172.31.41.140:9091\n",
      "2019-09-18 08:26:24,885 INFO rsync /home/ubuntu/mc2/federated-xgboost/camp/ -> 35.167.132.178:/home/ubuntu/mc2/federated-xgboost/camp/\n",
      "2019-09-18 08:26:24,885 INFO rsync /home/ubuntu/mc2/federated-xgboost/camp/ -> 34.222.205.126:/home/ubuntu/mc2/federated-xgboost/camp/\n",
      "2019-09-18 08:26:24,885 INFO rsync /home/ubuntu/mc2/federated-xgboost/camp/ -> 34.222.177.218:/home/ubuntu/mc2/federated-xgboost/camp/\n",
      "2019-09-18 08:26:27,375 INFO @tracker All of 3 nodes getting started\n",
      "3\n",
      "[08:26:43] WARNING: /workspace/src/learner.cc:622: Tree method is automatically selected to be 'approx' for distributed training.\n",
      "[08:26:43] Tree method is automatically selected to be 'approx' for distributed training.\n",
      "[0]\teval-rmse:9.168171\n",
      "/usr/local/lib/python3.6/dist-packages/xgboost/core.py:614: UserWarning: Use subset (sliced data) of np.ndarray is not recommended because it will generate extra copies and increase memory consumption\n",
      "  \"because it will generate extra copies and increase memory consumption\")\n",
      "3\n",
      "[08:26:43] WARNING: /workspace/src/learner.cc:622: Tree method is automatically selected to be 'approx' for distributed training.\n",
      "[08:26:43] Tree method is automatically selected to be 'approx' for distributed training.\n",
      "[0]\teval-rmse:9.168171\n",
      "/usr/local/lib/python3.6/dist-packages/xgboost/core.py:614: UserWarning: Use subset (sliced data) of np.ndarray is not recommended because it will generate extra copies and increase memory consumption\n",
      "  \"because it will generate extra copies and increase memory consumption\")\n",
      "2019-09-18 08:27:29,154 INFO @tracker All nodes finishes job\n",
      "3\n",
      "[08:26:43] WARNING: /workspace/src/learner.cc:622: Tree method is automatically selected to be 'approx' for distributed training.\n",
      "[08:26:43] Tree method is automatically selected to be 'approx' for distributed training.\n",
      "[0]\teval-rmse:9.168171\n",
      "/usr/local/lib/python3.6/dist-packages/xgboost/core.py:614: UserWarning: Use subset (sliced data) of np.ndarray is not recommended because it will generate extra copies and increase memory consumption\n",
      "  \"because it will generate extra copies and increase memory consumption\")\n",
      "2019-09-18 08:27:29,154 INFO @tracker 61.778568983078 secs between node start and job finish\n"
     ]
    }
   ],
   "source": [
    "!./start_job.sh -p 3 -m 3g -d /home/ubuntu/mc2/federated-xgboost/risecamp/ -j /home/ubuntu/mc2/federated-xgboost/risecamp/tutorial.py"
   ]
  },
  {
   "cell_type": "code",
   "execution_count": null,
   "metadata": {},
   "outputs": [],
   "source": []
  }
 ],
 "metadata": {
  "kernelspec": {
   "display_name": "Python 3",
   "language": "python",
   "name": "python3"
  },
  "language_info": {
   "codemirror_mode": {
    "name": "ipython",
    "version": 3
   },
   "file_extension": ".py",
   "mimetype": "text/x-python",
   "name": "python",
   "nbconvert_exporter": "python",
   "pygments_lexer": "ipython3",
   "version": "3.6.8"
  }
 },
 "nbformat": 4,
 "nbformat_minor": 2
}
