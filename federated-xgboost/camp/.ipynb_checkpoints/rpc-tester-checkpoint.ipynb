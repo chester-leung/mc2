{
 "cells": [
  {
   "cell_type": "code",
   "execution_count": 1,
   "metadata": {},
   "outputs": [],
   "source": [
    "from jfxgb import JFedX"
   ]
  },
  {
   "cell_type": "code",
   "execution_count": 2,
   "metadata": {},
   "outputs": [],
   "source": [
    "jfxgb = JFedX()"
   ]
  },
  {
   "cell_type": "code",
   "execution_count": 3,
   "metadata": {},
   "outputs": [],
   "source": [
    "jfxgb.load_training_data(\"/home/ubuntu/data/msd_training_data_split.csv\")"
   ]
  },
  {
   "cell_type": "code",
   "execution_count": 4,
   "metadata": {},
   "outputs": [
    {
     "name": "stdout",
     "output_type": "stream",
     "text": [
      "Beginning training...\n",
      "[07:40:49] WARNING: /workspace/src/learner.cc:622: Tree method is automatically selected to be 'approx' for distributed training.\n",
      "[07:40:49] Tree method is automatically selected to be 'approx' for distributed training.\n",
      "[07:40:50] WARNING: /workspace/src/learner.cc:622: Tree method is automatically selected to be 'approx' for distributed training.\n",
      "[07:40:50] Tree method is automatically selected to be 'approx' for distributed training.\n",
      "[07:40:49] WARNING: /workspace/src/learner.cc:622: Tree method is automatically selected to be 'approx' for distributed training.\n",
      "[07:40:49] Tree method is automatically selected to be 'approx' for distributed training.\n",
      "\n"
     ]
    }
   ],
   "source": [
    "params = {'max_depth': 3, 'min_child_weight': 1.0, 'lambda': 1.0}\n",
    "num_rounds = 40\n",
    "jfxgb.train(params, num_rounds)"
   ]
  },
  {
   "cell_type": "code",
   "execution_count": 5,
   "metadata": {},
   "outputs": [
    {
     "name": "stdout",
     "output_type": "stream",
     "text": [
      "2019-09-18 07:43:35,340 INFO start listen on 172.31.41.140:9091\n",
      "2019-09-18 07:43:35,347 INFO rsync /home/ubuntu/mc2/federated-xgboost/camp/ -> 35.167.132.178:/home/ubuntu/mc2/federated-xgboost/camp/\n",
      "2019-09-18 07:43:35,347 INFO rsync /home/ubuntu/mc2/federated-xgboost/camp/ -> 34.222.205.126:/home/ubuntu/mc2/federated-xgboost/camp/\n",
      "2019-09-18 07:43:35,347 INFO rsync /home/ubuntu/mc2/federated-xgboost/camp/ -> 34.222.177.218:/home/ubuntu/mc2/federated-xgboost/camp/\n",
      "2019-09-18 07:43:37,804 INFO @tracker All of 3 nodes getting started\n",
      "[07:43:54] WARNING: /workspace/src/learner.cc:622: Tree method is automatically selected to be 'approx' for distributed training.\n",
      "[07:43:54] Tree method is automatically selected to be 'approx' for distributed training.\n",
      "/usr/local/lib/python3.6/dist-packages/xgboost/core.py:614: UserWarning: Use subset (sliced data) of np.ndarray is not recommended because it will generate extra copies and increase memory consumption\n",
      "  \"because it will generate extra copies and increase memory consumption\")\n",
      "[07:43:54] WARNING: /workspace/src/learner.cc:622: Tree method is automatically selected to be 'approx' for distributed training.\n",
      "[07:43:54] Tree method is automatically selected to be 'approx' for distributed training.\n",
      "/usr/local/lib/python3.6/dist-packages/xgboost/core.py:614: UserWarning: Use subset (sliced data) of np.ndarray is not recommended because it will generate extra copies and increase memory consumption\n",
      "  \"because it will generate extra copies and increase memory consumption\")\n",
      "2019-09-18 07:44:12,144 INFO @tracker All nodes finishes job\n",
      "[07:43:54] WARNING: /workspace/src/learner.cc:622: Tree method is automatically selected to be 'approx' for distributed training.\n",
      "[07:43:54] Tree method is automatically selected to be 'approx' for distributed training.\n",
      "/usr/local/lib/python3.6/dist-packages/xgboost/core.py:614: UserWarning: Use subset (sliced data) of np.ndarray is not recommended because it will generate extra copies and increase memory consumption\n",
      "  \"because it will generate extra copies and increase memory consumption\")\n",
      "2019-09-18 07:44:12,144 INFO @tracker 34.33971428871155 secs between node start and job finish\n"
     ]
    }
   ],
   "source": [
    "!./start_job.sh -p 3 -m 3g -d /home/ubuntu/mc2/federated-xgboost/camp/ -j /home/ubuntu/mc2/federated-xgboost/camp/xgb_train.py"
   ]
  },
  {
   "cell_type": "code",
   "execution_count": null,
   "metadata": {},
   "outputs": [],
   "source": [
    "jfxgb.load_test_data(\"/home/ubuntu/data/msd_test_data_split.csv\")"
   ]
  },
  {
   "cell_type": "code",
   "execution_count": null,
   "metadata": {},
   "outputs": [],
   "source": [
    "jfxgb.eval()"
   ]
  },
  {
   "cell_type": "code",
   "execution_count": null,
   "metadata": {},
   "outputs": [],
   "source": []
  }
 ],
 "metadata": {
  "kernelspec": {
   "display_name": "Python 3",
   "language": "python",
   "name": "python3"
  },
  "language_info": {
   "codemirror_mode": {
    "name": "ipython",
    "version": 3
   },
   "file_extension": ".py",
   "mimetype": "text/x-python",
   "name": "python",
   "nbconvert_exporter": "python",
   "pygments_lexer": "ipython3",
   "version": "3.6.8"
  }
 },
 "nbformat": 4,
 "nbformat_minor": 2
}
